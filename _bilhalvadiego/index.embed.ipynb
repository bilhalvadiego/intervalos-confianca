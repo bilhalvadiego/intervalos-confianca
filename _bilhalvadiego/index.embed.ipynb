{
 "cells": [
  {
   "cell_type": "markdown",
   "metadata": {},
   "source": [
    "# Intervalos de Confiança com Variância Conhecida\n",
    "\n",
    "Diego Vieira Bilhalva [![](data:image/png;base64,iVBORw0KGgoAAAANSUhEUgAAABAAAAAQCAYAAAAf8/9hAAAAGXRFWHRTb2Z0d2FyZQBBZG9iZSBJbWFnZVJlYWR5ccllPAAAA2ZpVFh0WE1MOmNvbS5hZG9iZS54bXAAAAAAADw/eHBhY2tldCBiZWdpbj0i77u/IiBpZD0iVzVNME1wQ2VoaUh6cmVTek5UY3prYzlkIj8+IDx4OnhtcG1ldGEgeG1sbnM6eD0iYWRvYmU6bnM6bWV0YS8iIHg6eG1wdGs9IkFkb2JlIFhNUCBDb3JlIDUuMC1jMDYwIDYxLjEzNDc3NywgMjAxMC8wMi8xMi0xNzozMjowMCAgICAgICAgIj4gPHJkZjpSREYgeG1sbnM6cmRmPSJodHRwOi8vd3d3LnczLm9yZy8xOTk5LzAyLzIyLXJkZi1zeW50YXgtbnMjIj4gPHJkZjpEZXNjcmlwdGlvbiByZGY6YWJvdXQ9IiIgeG1sbnM6eG1wTU09Imh0dHA6Ly9ucy5hZG9iZS5jb20veGFwLzEuMC9tbS8iIHhtbG5zOnN0UmVmPSJodHRwOi8vbnMuYWRvYmUuY29tL3hhcC8xLjAvc1R5cGUvUmVzb3VyY2VSZWYjIiB4bWxuczp4bXA9Imh0dHA6Ly9ucy5hZG9iZS5jb20veGFwLzEuMC8iIHhtcE1NOk9yaWdpbmFsRG9jdW1lbnRJRD0ieG1wLmRpZDo1N0NEMjA4MDI1MjA2ODExOTk0QzkzNTEzRjZEQTg1NyIgeG1wTU06RG9jdW1lbnRJRD0ieG1wLmRpZDozM0NDOEJGNEZGNTcxMUUxODdBOEVCODg2RjdCQ0QwOSIgeG1wTU06SW5zdGFuY2VJRD0ieG1wLmlpZDozM0NDOEJGM0ZGNTcxMUUxODdBOEVCODg2RjdCQ0QwOSIgeG1wOkNyZWF0b3JUb29sPSJBZG9iZSBQaG90b3Nob3AgQ1M1IE1hY2ludG9zaCI+IDx4bXBNTTpEZXJpdmVkRnJvbSBzdFJlZjppbnN0YW5jZUlEPSJ4bXAuaWlkOkZDN0YxMTc0MDcyMDY4MTE5NUZFRDc5MUM2MUUwNEREIiBzdFJlZjpkb2N1bWVudElEPSJ4bXAuZGlkOjU3Q0QyMDgwMjUyMDY4MTE5OTRDOTM1MTNGNkRBODU3Ii8+IDwvcmRmOkRlc2NyaXB0aW9uPiA8L3JkZjpSREY+IDwveDp4bXBtZXRhPiA8P3hwYWNrZXQgZW5kPSJyIj8+84NovQAAAR1JREFUeNpiZEADy85ZJgCpeCB2QJM6AMQLo4yOL0AWZETSqACk1gOxAQN+cAGIA4EGPQBxmJA0nwdpjjQ8xqArmczw5tMHXAaALDgP1QMxAGqzAAPxQACqh4ER6uf5MBlkm0X4EGayMfMw/Pr7Bd2gRBZogMFBrv01hisv5jLsv9nLAPIOMnjy8RDDyYctyAbFM2EJbRQw+aAWw/LzVgx7b+cwCHKqMhjJFCBLOzAR6+lXX84xnHjYyqAo5IUizkRCwIENQQckGSDGY4TVgAPEaraQr2a4/24bSuoExcJCfAEJihXkWDj3ZAKy9EJGaEo8T0QSxkjSwORsCAuDQCD+QILmD1A9kECEZgxDaEZhICIzGcIyEyOl2RkgwAAhkmC+eAm0TAAAAABJRU5ErkJggg==)](https://orcid.org/https://orcid.org/0009-0008-1300-8278) (UFRJ - Universidade Federal do Rio de Janeiro)  \n",
    "Marcelo Amaral (UFRJ - Universidade Federal do Rio de Janeiro)  \n",
    "João Victor Muniz (UFRJ - Universidade Federal do Rio de Janeiro)\n",
    "\n",
    "## Bibliotecas utilizadas neste projeto\n",
    "\n",
    "As bibliotecas utilizadas são `tidyverse` , `ggplot2` e `writexl`. Além disso é utilizado um script auxiliar `funcoes_ic.R`, o qual pode ser feito o download mais abaixo."
   ],
   "id": "aa45b270-4788-4b47-8f13-de92e6e68f81"
  },
  {
   "cell_type": "code",
   "execution_count": null,
   "metadata": {},
   "outputs": [
    {
     "output_type": "stream",
     "name": "stderr",
     "text": [
      "── Attaching core tidyverse packages ──────────────────────── tidyverse 2.0.0 ──\n",
      "✔ dplyr     1.1.4     ✔ readr     2.1.5\n",
      "✔ forcats   1.0.0     ✔ stringr   1.5.1\n",
      "✔ ggplot2   3.5.2     ✔ tibble    3.3.0\n",
      "✔ lubridate 1.9.4     ✔ tidyr     1.3.1\n",
      "✔ purrr     1.0.4     \n",
      "── Conflicts ────────────────────────────────────────── tidyverse_conflicts() ──\n",
      "✖ dplyr::filter() masks stats::filter()\n",
      "✖ dplyr::lag()    masks stats::lag()\n",
      "ℹ Use the conflicted package (<http://conflicted.r-lib.org/>) to force all conflicts to become errors"
     ]
    }
   ],
   "source": [
    "library(tidyverse)"
   ],
   "id": "9ecfbe9e-3c68-452d-a49d-46438f9a6186"
  },
  {
   "cell_type": "markdown",
   "metadata": {},
   "source": [
    "## Objetivo\n",
    "\n",
    "Este trabalho visa simular amostras de distribuições normais com variância conhecida para calcular e analisar a cobertura dos intervalos de confiança (IC) para a média populacional, utilizando as fórmulas clássicas baseadas na distribuição normal (Z). Segundo @montgomery2007, esse tipo de inferência estatística é fundamental em experimentos com controle de variabilidade.\n",
    "\n",
    "------------------------------------------------------------------------\n",
    "\n",
    "## Exercício 1 — IC 95% para média de N(4, 9)"
   ],
   "id": "82fb1171-c6f0-4d64-a0e2-7285899f674f"
  },
  {
   "cell_type": "code",
   "execution_count": null,
   "metadata": {},
   "outputs": [
    {
     "output_type": "stream",
     "name": "stdout",
     "text": [
      "[1] 0.98"
     ]
    }
   ],
   "source": [
    "ic1 <- ic_tool$gerar_ic(\n",
    "  n_amostras = 100\n",
    "  ,n = 150\n",
    "  ,media = 4\n",
    "  ,variancia = 9\n",
    "  ,nivel_confianca = 0.95\n",
    "  ,seed = 123\n",
    ")\n",
    "\n",
    "write_xlsx(ic1, \"output/ic_exercicio_1.xlsx\")\n",
    "mean(ic1$contem_media_real)"
   ],
   "id": "1e0f70a9-d730-4395-9119-893e57bbca24"
  },
  {
   "cell_type": "code",
   "execution_count": null,
   "metadata": {},
   "outputs": [],
   "source": [
    "n_amostras = 100\n",
    "n = 150\n",
    "media = 4\n",
    "variancia = 9\n",
    "nivel_confianca = 0.95\n",
    "sigma <- sqrt(variancia)\n",
    "amostras <- replicate(n_amostras, rnorm(n, mean = media, sd = sigma))"
   ],
   "id": "94b4d723-91b7-49e9-bca4-422361f27921"
  },
  {
   "cell_type": "code",
   "execution_count": null,
   "metadata": {},
   "outputs": [
    {
     "output_type": "display_data",
     "metadata": {},
     "data": {}
    }
   ],
   "source": [
    "ic_tool$plotar_ic(ic1, media_real = 4, titulo = \"IC 95% para média de N(4, 9) - 100 amostras\")"
   ],
   "id": "272b0ddc-9c71-4b0e-9c7b-58e7efcfd2fb"
  },
  {
   "cell_type": "markdown",
   "metadata": {},
   "source": [
    "------------------------------------------------------------------------\n",
    "\n",
    "## Exercício 2 — IC 90% para média de N(25, 36)"
   ],
   "id": "474e4518-6c7a-410a-bffe-3fc493e23b3b"
  },
  {
   "cell_type": "code",
   "execution_count": null,
   "metadata": {},
   "outputs": [
    {
     "output_type": "stream",
     "name": "stdout",
     "text": [
      "[1] \"Média: 0.89\""
     ]
    }
   ],
   "source": [
    "ic2 <- ic_tool$gerar_ic(\n",
    "  n_amostras = 150\n",
    "  ,n = 100\n",
    "  ,media = 25\n",
    "  ,variancia = 36\n",
    "  ,nivel_confianca = 0.90\n",
    "  ,seed = 7765\n",
    ")\n",
    "\n",
    "write_xlsx(ic2, \"output/ic_exercicio_2.xlsx\")\n",
    "print(paste0('Média: ', round(mean(ic2$contem_media_real), digits = 2)))"
   ],
   "id": "794885be-322c-4ead-8a50-0c15bd6a53d8"
  },
  {
   "cell_type": "code",
   "execution_count": null,
   "metadata": {},
   "outputs": [
    {
     "output_type": "display_data",
     "metadata": {},
     "data": {}
    }
   ],
   "source": [
    "ic_tool$plotar_ic(ic2, media_real = 25, titulo = \"IC 90% para média de N(25, 36) - 150 amostras\")"
   ],
   "id": "92a87590-420b-4d2a-afe2-6190fed59ce9"
  },
  {
   "cell_type": "markdown",
   "metadata": {},
   "source": [
    "------------------------------------------------------------------------\n",
    "\n",
    "## Considerações\n",
    "\n",
    "-   Como a **variância populacional é conhecida**, usamos a distribuição **normal padrão (Z)** e não a distribuição t de Student @devore2012.\n",
    "-   A cobertura empírica dos intervalos tende a se aproximar dos níveis nominais de 95% e 90%, conforme a teoria estatística @casella2002.\n",
    "\n",
    "------------------------------------------------------------------------\n",
    "\n",
    "### Anexo:\n",
    "\n",
    "[Download do Script R auxiliar: funcoes_ic.R](funcoes_ic.R)\n",
    "\n",
    "[Download do dataset ic_exercicio_1.xlsx](output/ic_exercicio_1.xlsx)\n",
    "\n",
    "[Download do dataset ic_exercicio_2.xlsx](output/ic_exercicio_2.xlsx)\n",
    "\n",
    "------------------------------------------------------------------------\n",
    "\n",
    "## Referências\n",
    "\n",
    "As referências utilizadas para fundamentar este estudo incluem obras clássicas de estatística inferencial, como Casella & Berger @casella2002, Devore @devore2012, e Montgomery @montgomery2007."
   ],
   "id": "c8082138-eec3-44e3-b474-aebd6b4a5950"
  }
 ],
 "nbformat": 4,
 "nbformat_minor": 5,
 "metadata": {}
}
