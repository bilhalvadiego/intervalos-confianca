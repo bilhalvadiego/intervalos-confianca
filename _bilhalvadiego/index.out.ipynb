{
 "cells": [
  {
   "cell_type": "markdown",
   "metadata": {},
   "source": [
    "# Intervalos de Confiança com Variância Conhecida\n",
    "\n",
    "Diego Vieira Bilhalva [![](data:image/png;base64,iVBORw0KGgoAAAANSUhEUgAAABAAAAAQCAYAAAAf8/9hAAAAGXRFWHRTb2Z0d2FyZQBBZG9iZSBJbWFnZVJlYWR5ccllPAAAA2ZpVFh0WE1MOmNvbS5hZG9iZS54bXAAAAAAADw/eHBhY2tldCBiZWdpbj0i77u/IiBpZD0iVzVNME1wQ2VoaUh6cmVTek5UY3prYzlkIj8+IDx4OnhtcG1ldGEgeG1sbnM6eD0iYWRvYmU6bnM6bWV0YS8iIHg6eG1wdGs9IkFkb2JlIFhNUCBDb3JlIDUuMC1jMDYwIDYxLjEzNDc3NywgMjAxMC8wMi8xMi0xNzozMjowMCAgICAgICAgIj4gPHJkZjpSREYgeG1sbnM6cmRmPSJodHRwOi8vd3d3LnczLm9yZy8xOTk5LzAyLzIyLXJkZi1zeW50YXgtbnMjIj4gPHJkZjpEZXNjcmlwdGlvbiByZGY6YWJvdXQ9IiIgeG1sbnM6eG1wTU09Imh0dHA6Ly9ucy5hZG9iZS5jb20veGFwLzEuMC9tbS8iIHhtbG5zOnN0UmVmPSJodHRwOi8vbnMuYWRvYmUuY29tL3hhcC8xLjAvc1R5cGUvUmVzb3VyY2VSZWYjIiB4bWxuczp4bXA9Imh0dHA6Ly9ucy5hZG9iZS5jb20veGFwLzEuMC8iIHhtcE1NOk9yaWdpbmFsRG9jdW1lbnRJRD0ieG1wLmRpZDo1N0NEMjA4MDI1MjA2ODExOTk0QzkzNTEzRjZEQTg1NyIgeG1wTU06RG9jdW1lbnRJRD0ieG1wLmRpZDozM0NDOEJGNEZGNTcxMUUxODdBOEVCODg2RjdCQ0QwOSIgeG1wTU06SW5zdGFuY2VJRD0ieG1wLmlpZDozM0NDOEJGM0ZGNTcxMUUxODdBOEVCODg2RjdCQ0QwOSIgeG1wOkNyZWF0b3JUb29sPSJBZG9iZSBQaG90b3Nob3AgQ1M1IE1hY2ludG9zaCI+IDx4bXBNTTpEZXJpdmVkRnJvbSBzdFJlZjppbnN0YW5jZUlEPSJ4bXAuaWlkOkZDN0YxMTc0MDcyMDY4MTE5NUZFRDc5MUM2MUUwNEREIiBzdFJlZjpkb2N1bWVudElEPSJ4bXAuZGlkOjU3Q0QyMDgwMjUyMDY4MTE5OTRDOTM1MTNGNkRBODU3Ii8+IDwvcmRmOkRlc2NyaXB0aW9uPiA8L3JkZjpSREY+IDwveDp4bXBtZXRhPiA8P3hwYWNrZXQgZW5kPSJyIj8+84NovQAAAR1JREFUeNpiZEADy85ZJgCpeCB2QJM6AMQLo4yOL0AWZETSqACk1gOxAQN+cAGIA4EGPQBxmJA0nwdpjjQ8xqArmczw5tMHXAaALDgP1QMxAGqzAAPxQACqh4ER6uf5MBlkm0X4EGayMfMw/Pr7Bd2gRBZogMFBrv01hisv5jLsv9nLAPIOMnjy8RDDyYctyAbFM2EJbRQw+aAWw/LzVgx7b+cwCHKqMhjJFCBLOzAR6+lXX84xnHjYyqAo5IUizkRCwIENQQckGSDGY4TVgAPEaraQr2a4/24bSuoExcJCfAEJihXkWDj3ZAKy9EJGaEo8T0QSxkjSwORsCAuDQCD+QILmD1A9kECEZgxDaEZhICIzGcIyEyOl2RkgwAAhkmC+eAm0TAAAAABJRU5ErkJggg==)](https://orcid.org/https://orcid.org/0009-0008-1300-8278) (UFRJ - Universidade Federal do Rio de Janeiro)"
   ],
   "id": "02aafe7f-bdf9-44f1-9125-e98ab76100ee"
  },
  {
   "cell_type": "code",
   "execution_count": null,
   "metadata": {},
   "outputs": [
    {
     "output_type": "stream",
     "name": "stderr",
     "text": [
      "── Attaching core tidyverse packages ──────────────────────── tidyverse 2.0.0 ──\n",
      "✔ dplyr     1.1.4     ✔ readr     2.1.5\n",
      "✔ forcats   1.0.0     ✔ stringr   1.5.1\n",
      "✔ ggplot2   3.5.2     ✔ tibble    3.3.0\n",
      "✔ lubridate 1.9.4     ✔ tidyr     1.3.1\n",
      "✔ purrr     1.0.4     \n",
      "── Conflicts ────────────────────────────────────────── tidyverse_conflicts() ──\n",
      "✖ dplyr::filter() masks stats::filter()\n",
      "✖ dplyr::lag()    masks stats::lag()\n",
      "ℹ Use the conflicted package (<http://conflicted.r-lib.org/>) to force all conflicts to become errors"
     ]
    }
   ],
   "source": [
    "library(tidyverse)"
   ],
   "id": "af5b580f-f5a3-4dec-b766-83869f712d18"
  },
  {
   "cell_type": "markdown",
   "metadata": {},
   "source": [
    "## 1 Objetivo\n",
    "\n",
    "Este trabalho visa simular amostras de distribuições normais com variância conhecida para calcular e analisar a cobertura dos intervalos de confiança (IC) para a média populacional, utilizando as fórmulas clássicas baseadas na distribuição normal (Z). Segundo Montgomery ([2007](#ref-montgomery2007)), esse tipo de inferência estatística é fundamental em experimentos com controle de variabilidade.\n",
    "\n",
    "------------------------------------------------------------------------\n",
    "\n",
    "## 2 Exercício 1 — IC 95% para média de N(4, 9)"
   ],
   "id": "f5a1561a-0e02-4a76-b764-9d60b67eb377"
  },
  {
   "cell_type": "code",
   "execution_count": null,
   "metadata": {},
   "outputs": [
    {
     "output_type": "stream",
     "name": "stdout",
     "text": [
      "[1] 95"
     ]
    }
   ],
   "source": [
    "ic1 <- ic_tool$gerar_ic(\n",
    "  n_amostras = 100,\n",
    "  n = 150,\n",
    "  media = 4,\n",
    "  variancia = 9,\n",
    "  nivel_confianca = 0.95\n",
    ")\n",
    "\n",
    "write_xlsx(ic1, \"output/ic_exercicio_1.xlsx\")\n",
    "mean(ic1$contem_media_real) * 100"
   ],
   "id": "e3c70df0-ffb4-4432-b4d0-5bdd25eac73a"
  },
  {
   "cell_type": "code",
   "execution_count": null,
   "metadata": {},
   "outputs": [
    {
     "output_type": "display_data",
     "metadata": {},
     "data": {}
    }
   ],
   "source": [
    "ic_tool$plotar_ic(ic1, media_real = 4, titulo = \"IC 95% para média de N(4, 9) - 100 amostras\")"
   ],
   "id": "c8e161a8-34e7-4197-8527-2f3ac6c3d94d"
  },
  {
   "cell_type": "markdown",
   "metadata": {},
   "source": [
    "------------------------------------------------------------------------\n",
    "\n",
    "## 3 Exercício 2 — IC 90% para média de N(25, 36)"
   ],
   "id": "1e45459a-fa0b-47a8-bab7-f4425d7b8cc2"
  },
  {
   "cell_type": "code",
   "execution_count": null,
   "metadata": {},
   "outputs": [
    {
     "output_type": "stream",
     "name": "stdout",
     "text": [
      "[1] 90"
     ]
    }
   ],
   "source": [
    "ic2 <- ic_tool$gerar_ic(\n",
    "  n_amostras = 150,\n",
    "  n = 100,\n",
    "  media = 25,\n",
    "  variancia = 36,\n",
    "  nivel_confianca = 0.90\n",
    ")\n",
    "\n",
    "write_xlsx(ic2, \"output/ic_exercicio_2.xlsx\")\n",
    "mean(ic2$contem_media_real) * 100"
   ],
   "id": "c15abf7f-3c87-4435-b820-59d7d20215e3"
  },
  {
   "cell_type": "code",
   "execution_count": null,
   "metadata": {},
   "outputs": [
    {
     "output_type": "display_data",
     "metadata": {},
     "data": {}
    }
   ],
   "source": [
    "ic_tool$plotar_ic(ic2, media_real = 25, titulo = \"IC 90% para média de N(25, 36) - 150 amostras\")"
   ],
   "id": "27c16aba-23aa-4f9e-a48d-f436555e3845"
  },
  {
   "cell_type": "markdown",
   "metadata": {},
   "source": [
    "------------------------------------------------------------------------\n",
    "\n",
    "## 4 Considerações\n",
    "\n",
    "-   Como a **variância populacional é conhecida**, usamos a distribuição **normal padrão (Z)** e não a distribuição t de Student Devore ([2012](#ref-devore2012)).\n",
    "-   A cobertura empírica dos intervalos tende a se aproximar dos níveis nominais de 95% e 90%, conforme a teoria estatística Casella; Berger ([2002](#ref-casella2002)).\n",
    "\n",
    "------------------------------------------------------------------------\n",
    "\n",
    "## 5 Referências\n",
    "\n",
    "As referências utilizadas para fundamentar este estudo incluem obras clássicas de estatística inferencial, como Casella & Berger Casella; Berger ([2002](#ref-casella2002)), Devore Devore ([2012](#ref-devore2012)), e Montgomery Montgomery ([2007](#ref-montgomery2007)).\n",
    "\n",
    "CASELLA, George; BERGER, Roger L. **Statistical Inference**. 2. ed. *\\[S.l.\\]*: Duxbury, 2002.\n",
    "\n",
    "DEVORE, Jay L. **Probability and Statistics for Engineering and the Sciences**. 8. ed. *\\[S.l.\\]*: Cengage Learning, 2012.\n",
    "\n",
    "MONTGOMERY, Douglas C. **Introduction to Statistical Quality Control**. 6. ed. *\\[S.l.\\]*: John Wiley & Sons, 2007."
   ],
   "id": "9cbfeb41-6eb0-49a0-af9c-e36d2ce82d0f"
  }
 ],
 "nbformat": 4,
 "nbformat_minor": 5,
 "metadata": {}
}
